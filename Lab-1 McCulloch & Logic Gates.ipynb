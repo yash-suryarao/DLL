{
 "cells": [
  {
   "cell_type": "markdown",
   "id": "d936f8d0-194e-40d4-9616-23749c604601",
   "metadata": {},
   "source": [
    "#### 1. Write a python program for McCulloch Pitts neuron which take binary input and give binary output."
   ]
  },
  {
   "cell_type": "code",
   "execution_count": 5,
   "id": "259ab365-f986-484c-b8e3-6668ee1bac0f",
   "metadata": {},
   "outputs": [
    {
     "name": "stdout",
     "output_type": "stream",
     "text": [
      "Output: 1\n"
     ]
    }
   ],
   "source": [
    "def mcculloch_pitts_neuron_binary(inputs, threshold):\n",
    "    sum_of_inputs = sum(inputs)\n",
    "    if sum_of_inputs >= threshold:\n",
    "        return 1 \n",
    "    else:\n",
    "        return 0 \n",
    "inp=[0,0,1,1]\n",
    "threshold=2\n",
    "output = mcculloch_pitts_neuron_binary(inp, threshold)\n",
    "print(f\"Output: {output}\")"
   ]
  },
  {
   "cell_type": "code",
   "execution_count": null,
   "id": "6a0f79ca-6294-4167-9beb-bb203c0fb3a8",
   "metadata": {},
   "outputs": [],
   "source": []
  },
  {
   "cell_type": "code",
   "execution_count": 6,
   "id": "b0344e48-a652-439d-85d8-ad2ca7a7d418",
   "metadata": {},
   "outputs": [
    {
     "name": "stdout",
     "output_type": "stream",
     "text": [
      "Input: [1, 1]\n",
      "Output: 1\n",
      "Input: [0, 0]\n",
      "Output: 0\n",
      "Input: [1, 0]\n",
      "Output: 0\n",
      "Input: [0, 1]\n",
      "Output: 0\n",
      "Input: [1, 1, 1]\n",
      "Output: 1\n",
      "Input: [0, 0, 1]\n",
      "Output: 0\n"
     ]
    }
   ],
   "source": [
    "class McCulloch_Neuron:\n",
    "    def __init__(self, weights, threshold):\n",
    "        self.weights = weights\n",
    "        self.threshold = threshold\n",
    "    def activation(self, inputs):\n",
    "        weighted_sum = sum(inputs)\n",
    " \n",
    "        if weighted_sum >= self.threshold:\n",
    "            return 1\n",
    "        else:\n",
    "            return 0\n",
    "\n",
    "if __name__ == \"__main__\":\n",
    "    weights = [1,1]\n",
    "    threshold = 2\n",
    "    neuron = McCulloch_Neuron(weights, threshold)\n",
    "\n",
    "    inputs_list = [[1,1],\n",
    "                   [0,0],\n",
    "                   [1,0],\n",
    "                   [0,1],\n",
    "                   [1,1,1],\n",
    "                   [0,0,1]]\n",
    "\n",
    "    for inputs in inputs_list:\n",
    "        output = neuron.activation(inputs)\n",
    "        print(f\"Input: {inputs}\\nOutput: {output}\")"
   ]
  },
  {
   "cell_type": "code",
   "execution_count": null,
   "id": "77d529aa-a3d8-4517-bf5a-2cf2bbdf0063",
   "metadata": {},
   "outputs": [],
   "source": []
  },
  {
   "cell_type": "code",
   "execution_count": 9,
   "id": "94820558-52fb-4297-8dd6-31d455d77392",
   "metadata": {},
   "outputs": [
    {
     "name": "stdout",
     "output_type": "stream",
     "text": [
      "OR Output:  1\n"
     ]
    }
   ],
   "source": [
    "def McCulloch_Neuron(inputs, threshold, gate_type=\"OR\"):\n",
    "    input_sum = sum(inputs)\n",
    "    if gate_type==\"OR\":\n",
    "        return 1 if input_sum >= 1 else 0\n",
    "binary_inputs = [1,1,0]\n",
    "threshold = 2\n",
    "\n",
    "res_or=McCulloch_Neuron(binary_inputs, threshold,gate_type=\"OR\")\n",
    "print(\"OR Output: \", res_or)"
   ]
  },
  {
   "cell_type": "code",
   "execution_count": null,
   "id": "3885afbf-684e-4beb-884d-a97adb656d39",
   "metadata": {},
   "outputs": [],
   "source": []
  },
  {
   "cell_type": "markdown",
   "id": "575e1d98-feff-4a0c-9378-3e78f0477674",
   "metadata": {},
   "source": [
    "#### 2. Write a python program for McCulloch Pitts neuron and perform AND function and OR function."
   ]
  },
  {
   "cell_type": "code",
   "execution_count": 34,
   "id": "434ce86c-b3f3-4136-a35a-4077c42b7c81",
   "metadata": {},
   "outputs": [
    {
     "name": "stdout",
     "output_type": "stream",
     "text": [
      "AND function:\n",
      "Input: [0, 1]\n",
      "Output: 0\n",
      "Input: [1, 0]\n",
      "Output: 0\n",
      "Input: [1, 1]\n",
      "Output: 1\n",
      "Input: [0, 0]\n",
      "Output: 0\n",
      "\n",
      "OR function:\n",
      "Input: [0, 1]\n",
      "Output: 1\n",
      "Input: [1, 0]\n",
      "Output: 1\n",
      "Input: [1, 1]\n",
      "Output: 1\n",
      "Input: [0, 0]\n",
      "Output: 0\n"
     ]
    }
   ],
   "source": [
    "def mcp_and(inputs, AND_threshold):\n",
    "    sum_of_inputs = sum(inputs)\n",
    "    \n",
    "    if sum_of_inputs >= AND_threshold:\n",
    "        return 1 \n",
    "    else:\n",
    "        return 0 \n",
    "    \n",
    "\n",
    "def mcp_or(inputs, OR_threshold):\n",
    "    sum_of_inputs = sum(inputs)\n",
    "    \n",
    "    if sum_of_inputs >= OR_threshold:\n",
    "        return 1 \n",
    "    else:\n",
    "        return 0 \n",
    "\n",
    "inputs = [[0,1],\n",
    "          [1,0],\n",
    "          [1,1],\n",
    "          [0,0]]\n",
    "\n",
    "print(\"AND function:\")\n",
    "for input in inputs:\n",
    "    AND_threshold = 2\n",
    "    output = mcp_and(input, AND_threshold)\n",
    "    print(f\"Input: {input}\")\n",
    "    print(f\"Output: {output}\")\n",
    "\n",
    "print(\"\\nOR function:\")\n",
    "for input in inputs:\n",
    "    OR_weights = [1,1]\n",
    "    OR_threshold = 1\n",
    "    output = mcp_or(input, OR_threshold)\n",
    "    print(f\"Input: {input}\")\n",
    "    print(f\"Output: {output}\")"
   ]
  },
  {
   "cell_type": "code",
   "execution_count": null,
   "id": "6ad537a9-0ebd-4572-a538-8c1451c15529",
   "metadata": {},
   "outputs": [],
   "source": []
  },
  {
   "cell_type": "code",
   "execution_count": null,
   "id": "3da5fc3b-b5e8-4e59-8cb3-ebf478cae7e1",
   "metadata": {},
   "outputs": [],
   "source": []
  },
  {
   "cell_type": "code",
   "execution_count": 42,
   "id": "f0aa10c6-c4e8-486d-9cf4-0a74b0369c95",
   "metadata": {},
   "outputs": [
    {
     "name": "stdout",
     "output_type": "stream",
     "text": [
      "Output of AND Function\n",
      "Input: [1, 1]\n",
      "Output: 1\n",
      "Input: [0, 0]\n",
      "Output: 0\n",
      "Input: [1, 0]\n",
      "Output: 0\n",
      "Input: [0, 1]\n",
      "Output: 0\n",
      "\n",
      "Output of OR Fuction\n",
      "Input: [1, 1]\n",
      "Output: 1\n",
      "Input: [0, 0]\n",
      "Output: 0\n",
      "Input: [1, 0]\n",
      "Output: 1\n",
      "Input: [0, 1]\n",
      "Output: 1\n"
     ]
    }
   ],
   "source": [
    "class McCulloch_Neuron:\n",
    "    def __init__(self, weights, threshold):\n",
    "        self.weights = weights\n",
    "        self.threshold = threshold\n",
    "    def activation(self, inputs):\n",
    "        weighted_sum = sum(inputs)\n",
    " \n",
    "        if weighted_sum >= self.threshold:\n",
    "            return 1\n",
    "        else:\n",
    "            return 0\n",
    "\n",
    "if __name__ == \"__main__\":\n",
    "    inputs_list = [[1,1],\n",
    "                   [0,0],\n",
    "                   [1,0],\n",
    "                   [0,1]]\n",
    "\n",
    "    # AND Function\n",
    "    AND_weights = [1,1]\n",
    "    AND_threshold = 2\n",
    "    AND_neuron = McCulloch_Neuron(AND_weights, AND_threshold)\n",
    "    print(\"Output of AND Function\")\n",
    "    for inputs in inputs_list:\n",
    "        output = AND_neuron.activation(inputs)\n",
    "        print(f\"Input: {inputs}\\nOutput: {output}\")\n",
    "\n",
    "    # OR Function\n",
    "    OR_weights = [1,1]\n",
    "    OR_threshold = 1\n",
    "    OR_neuron = McCulloch_Neuron(OR_weights, OR_threshold)\n",
    " \n",
    "    print(\"\\nOutput of OR Fuction\")\n",
    "    for inputs in inputs_list:\n",
    "        output = OR_neuron.activation(inputs)\n",
    "        print(f\"Input: {inputs}\\nOutput: {output}\")"
   ]
  },
  {
   "cell_type": "code",
   "execution_count": null,
   "id": "0ef91b54-51e9-4444-aebb-9b6470424d12",
   "metadata": {},
   "outputs": [],
   "source": []
  },
  {
   "cell_type": "markdown",
   "id": "a2a5eff1-236d-4206-9fb2-111a71a70d1e",
   "metadata": {},
   "source": [
    "### McCulloch All Logic Gates"
   ]
  },
  {
   "cell_type": "code",
   "execution_count": 11,
   "id": "ea9adeeb-eb5e-4b2a-9617-f6a530e4ad87",
   "metadata": {},
   "outputs": [
    {
     "name": "stdout",
     "output_type": "stream",
     "text": [
      "AND Function:\n",
      "Input: [0, 0] => Output: 0\n",
      "Input: [0, 1] => Output: 0\n",
      "Input: [1, 0] => Output: 0\n",
      "Input: [1, 1] => Output: 1\n",
      "\n",
      "OR Function:\n",
      "Input: [0, 0] => Output: 0\n",
      "Input: [0, 1] => Output: 1\n",
      "Input: [1, 0] => Output: 1\n",
      "Input: [1, 1] => Output: 1\n",
      "\n",
      "NAND Function:\n",
      "Input: [0, 0] => Output: 1\n",
      "Input: [0, 1] => Output: 1\n",
      "Input: [1, 0] => Output: 1\n",
      "Input: [1, 1] => Output: 0\n",
      "\n",
      "NOR Function:\n",
      "Input: [0, 0] => Output: 1\n",
      "Input: [0, 1] => Output: 0\n",
      "Input: [1, 0] => Output: 0\n",
      "Input: [1, 1] => Output: 0\n",
      "\n",
      "NOT Function:\n",
      "Input: 0 => Output: 1\n",
      "Input: 1 => Output: 0\n"
     ]
    }
   ],
   "source": [
    "def mcculloch_pitts_neuron(inputs, threshold):\n",
    "    sum_of_inputs = sum(inputs)\n",
    "    return 1 if sum_of_inputs >= threshold else 0\n",
    "\n",
    "def mcculloch_pitts_not(input_value):\n",
    "    return 1 if input_value == 0 else 0\n",
    "\n",
    "# Input combinations for two-input logic gates\n",
    "inputs_two = [[0, 0], [0, 1], [1, 0], [1, 1]]\n",
    "\n",
    "\n",
    "print(\"AND Function:\")\n",
    "for input_pair in inputs_two:\n",
    "    output = mcculloch_pitts_neuron(input_pair, threshold=2)\n",
    "    print(f\"Input: {input_pair} => Output: {output}\")\n",
    "\n",
    "print(\"\\nOR Function:\")\n",
    "for input_pair in inputs_two:\n",
    "    output = mcculloch_pitts_neuron(input_pair, threshold=1)\n",
    "    print(f\"Input: {input_pair} => Output: {output}\")\n",
    "\n",
    "print(\"\\nNAND Function:\")\n",
    "for input_pair in inputs_two:\n",
    "    and_output = mcculloch_pitts_neuron(input_pair, threshold=2)\n",
    "    nand_output = mcculloch_pitts_not(and_output)\n",
    "    print(f\"Input: {input_pair} => Output: {nand_output}\")\n",
    "\n",
    "print(\"\\nNOR Function:\")\n",
    "for input_pair in inputs_two:\n",
    "    or_output = mcculloch_pitts_neuron(input_pair, threshold=1)\n",
    "    nor_output = mcculloch_pitts_not(or_output)\n",
    "    print(f\"Input: {input_pair} => Output: {nor_output}\")\n",
    "\n",
    "# Input combinations for NOT gate\n",
    "inputs_not = [0, 1]\n",
    "\n",
    "print(\"\\nNOT Function:\")\n",
    "for input_value in inputs_not:\n",
    "    output = mcculloch_pitts_not(input_value)\n",
    "    print(f\"Input: {input_value} => Output: {output}\")\n"
   ]
  }
 ],
 "metadata": {
  "kernelspec": {
   "display_name": "Python 3 (ipykernel)",
   "language": "python",
   "name": "python3"
  },
  "language_info": {
   "codemirror_mode": {
    "name": "ipython",
    "version": 3
   },
   "file_extension": ".py",
   "mimetype": "text/x-python",
   "name": "python",
   "nbconvert_exporter": "python",
   "pygments_lexer": "ipython3",
   "version": "3.11.1"
  }
 },
 "nbformat": 4,
 "nbformat_minor": 5
}
