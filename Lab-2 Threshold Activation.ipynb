{
 "cells": [
  {
   "cell_type": "markdown",
   "id": "98b806d1-d053-4aee-b048-a8b56fd0f985",
   "metadata": {},
   "source": [
    "#### Implement Perceptron"
   ]
  },
  {
   "cell_type": "code",
   "execution_count": 1,
   "id": "8d938516-6507-47e8-8d37-f40dcf1ff173",
   "metadata": {},
   "outputs": [
    {
     "name": "stdout",
     "output_type": "stream",
     "text": [
      "Trained Weights: [-0.1  0.1  0.1]\n",
      "\n",
      "Testing Perceptron:\n",
      "Input: [0 0] => Output: 0\n",
      "Input: [0 1] => Output: 1\n",
      "Input: [1 0] => Output: 1\n",
      "Input: [1 1] => Output: 1\n"
     ]
    }
   ],
   "source": [
    "import numpy as np\n",
    "class Perceptron:\n",
    "    def __init__(self, input_size, learning_rate=0.1, epochs=10):\n",
    "        self.weights = np.zeros(input_size + 1)  # including bias\n",
    "        self.lr = learning_rate\n",
    "        self.epochs = epochs\n",
    "    def activation_fn(self, x):\n",
    "        return 1 if x >= 0 else 0\n",
    "    def predict(self, x):\n",
    "        z = self.weights[0] + np.dot(x, self.weights[1:])\n",
    "        return self.activation_fn(z)\n",
    "    def train(self, X, y):\n",
    "        for _ in range(self.epochs):\n",
    "            for xi, target in zip(X, y):\n",
    "                prediction = self.predict(xi)\n",
    "                self.weights[1:] += self.lr * (target - prediction) * xi\n",
    "                self.weights[0] += self.lr * (target - prediction)\n",
    "# Example: OR Gate\n",
    "\n",
    "X = np.array([[0, 0], [0, 1], [1, 0], [1, 1]])\n",
    "y = np.array([0, 1, 1, 1])  # OR logic\n",
    "p = Perceptron(input_size=2)\n",
    "p.train(X, y)\n",
    "print(\"Trained Weights:\", p.weights)\n",
    "print(\"\\nTesting Perceptron:\")\n",
    "for xi in X:\n",
    "    print(f\"Input: {xi} => Output: {p.predict(xi)}\")\n"
   ]
  },
  {
   "cell_type": "code",
   "execution_count": null,
   "id": "502db59b-b051-41dc-bf72-e70fd6b0c572",
   "metadata": {},
   "outputs": [],
   "source": []
  },
  {
   "cell_type": "markdown",
   "id": "4f049836-b788-4315-bee1-5a75d59884b5",
   "metadata": {},
   "source": [
    "#### Using McCilloch-Pitts Neuron design a logic gate to classify risk level"
   ]
  },
  {
   "cell_type": "code",
   "execution_count": 3,
   "id": "d621538f-3f46-45c0-973b-9779d4a9a3dd",
   "metadata": {},
   "outputs": [
    {
     "name": "stdout",
     "output_type": "stream",
     "text": [
      "Patient Risk Level = 1 : High Risk\n"
     ]
    }
   ],
   "source": [
    "def mcculloch_pitts(x1,x2,w1,w2,threshold):\n",
    "    weighted_sum = (w1*x1) + (w2*x2)\n",
    "\n",
    "    if weighted_sum >= threshold:\n",
    "        return 1\n",
    "    else:\n",
    "        return 0\n",
    "x1=0\n",
    "x2=1\n",
    "w1=1\n",
    "w2=1\n",
    "threshold = 1\n",
    "output = mcculloch_pitts(x1,x2,w1,w2,threshold)\n",
    "print(f\"Patient Risk Level = {'1 : High Risk' if output == 1 else '0 : Low Risk'}\")"
   ]
  },
  {
   "cell_type": "code",
   "execution_count": null,
   "id": "560c3aa5-484d-4159-b571-1d77ab4076df",
   "metadata": {},
   "outputs": [],
   "source": []
  },
  {
   "cell_type": "code",
   "execution_count": 9,
   "id": "08d3d88a-bfb2-4473-8bc2-2a7c64efcd62",
   "metadata": {},
   "outputs": [
    {
     "name": "stdout",
     "output_type": "stream",
     "text": [
      "Note: Use 1 for Yes, 0 for No\n"
     ]
    },
    {
     "name": "stdin",
     "output_type": "stream",
     "text": [
      "\n",
      "Do you feel Cold?  1\n",
      "Do you have High Temperature?  1\n",
      "Do you have a Headache?  0\n",
      "Do you feel Tired?  0\n"
     ]
    },
    {
     "name": "stdout",
     "output_type": "stream",
     "text": [
      "\n",
      "Risk Classification Result:\n",
      "Risk Level: YES - You might be ill.\n"
     ]
    }
   ],
   "source": [
    "def risk_classifier(inputs):\n",
    "    threshold = 2\n",
    "    input_sum = sum(inputs)\n",
    "    if input_sum >= threshold:\n",
    "        return 1  # Risk = Yes\n",
    "    else:\n",
    "        return 0  # Risk = No\n",
    "\n",
    "print(\"Note: Use 1 for Yes, 0 for No\")\n",
    "\n",
    "symptoms = []\n",
    "symptoms.append(int(input(\"\\nDo you feel Cold? \")))\n",
    "symptoms.append(int(input(\"Do you have High Temperature? \")))\n",
    "symptoms.append(int(input(\"Do you have a Headache? \")))\n",
    "symptoms.append(int(input(\"Do you feel Tired? \")))\n",
    "\n",
    "risk = risk_classifier(symptoms)\n",
    "\n",
    "print(\"\\nRisk Classification Result:\")\n",
    "if risk:\n",
    "    print(\"Risk Level: YES - You might be ill.\")\n",
    "else:\n",
    "    print(\"Risk Level: NO - You seem fine.\")\n"
   ]
  },
  {
   "cell_type": "code",
   "execution_count": null,
   "id": "650fae51-b1d2-4d19-82f6-5acfd64d5e63",
   "metadata": {},
   "outputs": [],
   "source": []
  },
  {
   "cell_type": "code",
   "execution_count": null,
   "id": "9974d5e3-5bef-4ddc-9f60-be32879edf48",
   "metadata": {},
   "outputs": [],
   "source": []
  },
  {
   "cell_type": "markdown",
   "id": "f50592f1-7ebc-46c1-a29c-3e7862aa471b",
   "metadata": {},
   "source": [
    "#### Sigmoid Using Numpy"
   ]
  },
  {
   "cell_type": "code",
   "execution_count": 10,
   "id": "4aac5fc0-60b7-4453-9db6-61193f846c32",
   "metadata": {},
   "outputs": [
    {
     "name": "stdout",
     "output_type": "stream",
     "text": [
      "Input Sum: 13\n",
      "Sigmoid Output: 0.999997739675702\n"
     ]
    }
   ],
   "source": [
    "import numpy as np\n",
    "\n",
    "def sigmoid(x):\n",
    "    return 1 / (1 + np.exp(-x))\n",
    "\n",
    "# Example input\n",
    "inputs = [1, 5, 2, 3, 2]\n",
    "input_sum = sum(inputs)\n",
    "\n",
    "sigmoid_output = sigmoid(input_sum)\n",
    "print(\"Input Sum:\", input_sum)\n",
    "print(\"Sigmoid Output:\", sigmoid_output)"
   ]
  },
  {
   "cell_type": "code",
   "execution_count": 15,
   "id": "941db2e5-e1d1-4d7c-8db0-ef8ce1532604",
   "metadata": {},
   "outputs": [
    {
     "name": "stdout",
     "output_type": "stream",
     "text": [
      "[0.6 2.6 0.2]\n",
      "[0.64565631 0.93086158 0.549834  ]\n"
     ]
    }
   ],
   "source": [
    "input_matrix = np.array([1,1])\n",
    "weight_matrix = np.array([[0.3,2.1,0.1],\n",
    "                          [0.3,0.5,0.1]])\n",
    "aggregation = np.dot(input_matrix, weight_matrix)\n",
    "print(aggregation)\n",
    "\n",
    "z = 1/(1+np.exp(-aggregation))\n",
    "print(z)"
   ]
  }
 ],
 "metadata": {
  "kernelspec": {
   "display_name": "Python 3 (ipykernel)",
   "language": "python",
   "name": "python3"
  },
  "language_info": {
   "codemirror_mode": {
    "name": "ipython",
    "version": 3
   },
   "file_extension": ".py",
   "mimetype": "text/x-python",
   "name": "python",
   "nbconvert_exporter": "python",
   "pygments_lexer": "ipython3",
   "version": "3.11.1"
  }
 },
 "nbformat": 4,
 "nbformat_minor": 5
}
