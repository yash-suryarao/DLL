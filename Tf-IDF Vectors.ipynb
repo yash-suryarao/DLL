{
 "cells": [
  {
   "cell_type": "markdown",
   "id": "4ec0c0a9-e6fe-4392-a942-cb498a8954c5",
   "metadata": {},
   "source": [
    "#### 3. WAP to convert a set of sentence into TF-IDF vectors using TfidfVectorizer from sklearn."
   ]
  },
  {
   "cell_type": "code",
   "execution_count": null,
   "id": "afd47fc1-5c2d-4b70-963f-ab831873039d",
   "metadata": {},
   "outputs": [],
   "source": [
    "from sklearn.feature_extraction.text import TfidfVectorizer\n",
    "\n",
    "# Sample sentences (you can replace with your own)\n",
    "sentences = [\n",
    "    \"Machine learning is great.\",\n",
    "    \"Natural language processing is a part of machine learning.\",\n",
    "    \"TF-IDF is used in text analysis.\"\n",
    "]\n",
    "\n",
    "# Create a TfidfVectorizer object\n",
    "vectorizer = TfidfVectorizer()\n",
    "\n",
    "# Fit and transform the sentences into TF-IDF vectors\n",
    "tfidf_matrix = vectorizer.fit_transform(sentences)\n",
    "\n",
    "# Get feature names (words)\n",
    "feature_names = vectorizer.get_feature_names_out()\n",
    "print(\"\\n3. TF-IDF Feature Names:\")\n",
    "print(feature_names)\n",
    "\n",
    "# Convert to dense format and print\n",
    "dense_matrix = tfidf_matrix.toarray()\n",
    "\n",
    "# Display the TF-IDF matrix\n",
    "print(\"TF-IDF Matrix:\")\n",
    "for i, sentence_vector in enumerate(dense_matrix):\n",
    "    print(f\"\\nSentence {i + 1}:\")\n",
    "    for word, score in zip(feature_names, sentence_vector):\n",
    "        if score > 0:\n",
    "            print(f\"  {word}: {score:.4f}\")\n"
   ]
  }
 ],
 "metadata": {
  "kernelspec": {
   "display_name": "Python 3 (ipykernel)",
   "language": "python",
   "name": "python3"
  },
  "language_info": {
   "codemirror_mode": {
    "name": "ipython",
    "version": 3
   },
   "file_extension": ".py",
   "mimetype": "text/x-python",
   "name": "python",
   "nbconvert_exporter": "python",
   "pygments_lexer": "ipython3",
   "version": "3.11.1"
  }
 },
 "nbformat": 4,
 "nbformat_minor": 5
}
